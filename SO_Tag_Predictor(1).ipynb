{
 "cells": [
  {
   "cell_type": "markdown",
   "metadata": {
    "colab_type": "text",
    "id": "U5Plrr2NU93P"
   },
   "source": [
    "<img src='images/pic1.jpg'/>"
   ]
  },
  {
   "cell_type": "markdown",
   "metadata": {
    "colab_type": "text",
    "id": "cow4e_y4U997"
   },
   "source": [
    "<h1> 5. Assignments </h1>"
   ]
  },
  {
   "cell_type": "markdown",
   "metadata": {
    "colab_type": "text",
    "id": "ry9fz7FmU998"
   },
   "source": [
    "<ol>\n",
    "    <li> Use bag of words upto 4 grams and compute the micro f1 score with Logistic regression(OvR) </li>\n",
    "    <li> Perform hyperparam tuning on alpha (or lambda) for Logistic regression to improve the performance using GridSearch  </li>\n",
    "    <li> Try OneVsRestClassifier  with Linear-SVM (SGDClassifier with loss-hinge)</li>\n",
    "</ol>"
   ]
  },
  {
   "cell_type": "code",
   "execution_count": 0,
   "metadata": {
    "colab": {},
    "colab_type": "code",
    "id": "ygWU7eBhmq4T"
   },
   "outputs": [],
   "source": [
    "#Taking 0.5 Million entries to a dataframe.\n",
    "conn_r = sqlite3.connect('Copy of Titlemoreweight.db')\n",
    "preprocessed_data = pd.read_sql_query(\"\"\"SELECT question, Tags FROM QuestionsProcessed\"\"\", conn_r)\n",
    "conn_r.close()"
   ]
  },
  {
   "cell_type": "code",
   "execution_count": 0,
   "metadata": {
    "colab": {},
    "colab_type": "code",
    "id": "pDlSN0tenHbE"
   },
   "outputs": [],
   "source": [
    "preprocessed_data=preprocessed_data[:100000]"
   ]
  },
  {
   "cell_type": "code",
   "execution_count": 9,
   "metadata": {
    "colab": {
     "base_uri": "https://localhost:8080/",
     "height": 206
    },
    "colab_type": "code",
    "id": "PbcwP8rVnaCX",
    "outputId": "0ec46452-9bf4-485a-dd9d-156187c37312"
   },
   "outputs": [
    {
     "data": {
      "text/html": [
       "<div>\n",
       "<style scoped>\n",
       "    .dataframe tbody tr th:only-of-type {\n",
       "        vertical-align: middle;\n",
       "    }\n",
       "\n",
       "    .dataframe tbody tr th {\n",
       "        vertical-align: top;\n",
       "    }\n",
       "\n",
       "    .dataframe thead th {\n",
       "        text-align: right;\n",
       "    }\n",
       "</style>\n",
       "<table border=\"1\" class=\"dataframe\">\n",
       "  <thead>\n",
       "    <tr style=\"text-align: right;\">\n",
       "      <th></th>\n",
       "      <th>question</th>\n",
       "      <th>tags</th>\n",
       "    </tr>\n",
       "  </thead>\n",
       "  <tbody>\n",
       "    <tr>\n",
       "      <th>0</th>\n",
       "      <td>dynam datagrid bind silverlight dynam datagrid...</td>\n",
       "      <td>c# silverlight data-binding</td>\n",
       "    </tr>\n",
       "    <tr>\n",
       "      <th>1</th>\n",
       "      <td>dynam datagrid bind silverlight dynam datagrid...</td>\n",
       "      <td>c# silverlight data-binding columns</td>\n",
       "    </tr>\n",
       "    <tr>\n",
       "      <th>2</th>\n",
       "      <td>java.lang.noclassdeffounderror javax servlet j...</td>\n",
       "      <td>jsp jstl</td>\n",
       "    </tr>\n",
       "    <tr>\n",
       "      <th>3</th>\n",
       "      <td>java.sql.sqlexcept microsoft odbc driver manag...</td>\n",
       "      <td>java jdbc</td>\n",
       "    </tr>\n",
       "    <tr>\n",
       "      <th>4</th>\n",
       "      <td>better way updat feed fb php sdk better way up...</td>\n",
       "      <td>facebook api facebook-php-sdk</td>\n",
       "    </tr>\n",
       "  </tbody>\n",
       "</table>\n",
       "</div>"
      ],
      "text/plain": [
       "                                            question  \\\n",
       "0  dynam datagrid bind silverlight dynam datagrid...   \n",
       "1  dynam datagrid bind silverlight dynam datagrid...   \n",
       "2  java.lang.noclassdeffounderror javax servlet j...   \n",
       "3  java.sql.sqlexcept microsoft odbc driver manag...   \n",
       "4  better way updat feed fb php sdk better way up...   \n",
       "\n",
       "                                  tags  \n",
       "0          c# silverlight data-binding  \n",
       "1  c# silverlight data-binding columns  \n",
       "2                             jsp jstl  \n",
       "3                            java jdbc  \n",
       "4        facebook api facebook-php-sdk  "
      ]
     },
     "execution_count": 9,
     "metadata": {
      "tags": []
     },
     "output_type": "execute_result"
    }
   ],
   "source": [
    "preprocessed_data.head()"
   ]
  },
  {
   "cell_type": "code",
   "execution_count": 10,
   "metadata": {
    "colab": {
     "base_uri": "https://localhost:8080/",
     "height": 53
    },
    "colab_type": "code",
    "id": "eULvFG6Tnqy6",
    "outputId": "89813547-2751-45e2-9ec1-3e067caa33ac"
   },
   "outputs": [
    {
     "name": "stdout",
     "output_type": "stream",
     "text": [
      "number of data points in sample : 100000\n",
      "number of dimensions : 2\n"
     ]
    }
   ],
   "source": [
    "print(\"number of data points in sample :\", preprocessed_data.shape[0])\n",
    "print(\"number of dimensions :\", preprocessed_data.shape[1])"
   ]
  },
  {
   "cell_type": "code",
   "execution_count": 0,
   "metadata": {
    "colab": {},
    "colab_type": "code",
    "id": "EcCwkHOwn6ti"
   },
   "outputs": [],
   "source": [
    "def tags_to_choose(n):\n",
    "    t = multilabel_y.sum(axis=0).tolist()[0]\n",
    "    sorted_tags_i = sorted(range(len(t)), key=lambda i: t[i], reverse=True)\n",
    "    multilabel_yn=multilabel_y[:,sorted_tags_i[:n]]\n",
    "    return multilabel_yn\n",
    "\n",
    "def questions_explained_fn(n):\n",
    "    multilabel_yn = tags_to_choose(n)\n",
    "    x= multilabel_yn.sum(axis=1)\n",
    "    return (np.count_nonzero(x==0))"
   ]
  },
  {
   "cell_type": "code",
   "execution_count": 0,
   "metadata": {
    "colab": {},
    "colab_type": "code",
    "id": "Sw05ejhJn_hF"
   },
   "outputs": [],
   "source": [
    "vectorizer = CountVectorizer(tokenizer = lambda x: x.split(), binary='true')\n",
    "multilabel_y = vectorizer.fit_transform(preprocessed_data['tags'])"
   ]
  },
  {
   "cell_type": "code",
   "execution_count": 0,
   "metadata": {
    "colab": {},
    "colab_type": "code",
    "id": "0td7GjEJoF6S"
   },
   "outputs": [],
   "source": [
    "questions_explained = []\n",
    "total_tags=multilabel_y.shape[1]\n",
    "total_qs=preprocessed_data.shape[0]\n",
    "for i in range(500, total_tags, 100):\n",
    "    questions_explained.append(np.round(((total_qs-questions_explained_fn(i))/total_qs)*100,3))"
   ]
  },
  {
   "cell_type": "code",
   "execution_count": 14,
   "metadata": {
    "colab": {
     "base_uri": "https://localhost:8080/",
     "height": 319
    },
    "colab_type": "code",
    "id": "upa6wxfToL0a",
    "outputId": "9032254c-ee67-4f76-a427-9d270655547e"
   },
   "outputs": [
    {
     "data": {
      "image/png": "[encoded data removed]",
      "text/plain": [
       "<Figure size 432x288 with 1 Axes>"
      ]
     },
     "metadata": {
      "tags": []
     },
     "output_type": "display_data"
    },
    {
     "name": "stdout",
     "output_type": "stream",
     "text": [
      "with  5500 tags we are covering  99.481 % of questions\n",
      "with  500 tags we are covering  92.5 % of questions\n"
     ]
    }
   ],
   "source": [
    "fig, ax = plt.subplots()\n",
    "ax.plot(questions_explained)\n",
    "xlabel = list(500+np.array(range(-50,450,50))*50)\n",
    "ax.set_xticklabels(xlabel)\n",
    "plt.xlabel(\"Number of tags\")\n",
    "plt.ylabel(\"Number Questions coverd partially\")\n",
    "plt.grid()\n",
    "plt.show()\n",
    "# you can choose any number of tags based on your computing power, minimun is 500(it covers 90% of the tags)\n",
    "print(\"with \",5500,\"tags we are covering \",questions_explained[50],\"% of questions\")\n",
    "print(\"with \",500,\"tags we are covering \",questions_explained[0],\"% of questions\")"
   ]
  },
  {
   "cell_type": "code",
   "execution_count": 15,
   "metadata": {
    "colab": {
     "base_uri": "https://localhost:8080/",
     "height": 35
    },
    "colab_type": "code",
    "id": "vMuycKwFoRN2",
    "outputId": "4771f31b-87d6-4f6a-8f7b-2295830349d4"
   },
   "outputs": [
    {
     "name": "stdout",
     "output_type": "stream",
     "text": [
      "number of questions that are not covered : 7500 out of  100000\n"
     ]
    }
   ],
   "source": [
    "# we will be taking 500 tags\n",
    "multilabel_yx = tags_to_choose(500)\n",
    "print(\"number of questions that are not covered :\", questions_explained_fn(500),\"out of \", total_qs)"
   ]
  },
  {
   "cell_type": "code",
   "execution_count": 0,
   "metadata": {
    "colab": {},
    "colab_type": "code",
    "id": "jSaNOQ0dolOt"
   },
   "outputs": [],
   "source": [
    "total_size=preprocessed_data.shape[0]\n",
    "train_size=int(0.80*total_size)\n",
    "\n",
    "x_train=preprocessed_data.head(train_size)\n",
    "x_test=preprocessed_data.tail(total_size - train_size)\n",
    "\n",
    "y_train = multilabel_yx[0:train_size,:]\n",
    "y_test = multilabel_yx[train_size:total_size,:]"
   ]
  },
  {
   "cell_type": "code",
   "execution_count": 17,
   "metadata": {
    "colab": {
     "base_uri": "https://localhost:8080/",
     "height": 53
    },
    "colab_type": "code",
    "id": "s7Hhnhfkoy6U",
    "outputId": "fa3f00aa-18c6-4a99-9c7e-e4e242e2d464"
   },
   "outputs": [
    {
     "name": "stdout",
     "output_type": "stream",
     "text": [
      "Number of data points in train data : (80000, 500)\n",
      "Number of data points in test data : (20000, 500)\n"
     ]
    }
   ],
   "source": [
    "print(\"Number of data points in train data :\", y_train.shape)\n",
    "print(\"Number of data points in test data :\", y_test.shape)"
   ]
  },
  {
   "cell_type": "markdown",
   "metadata": {
    "colab_type": "text",
    "id": "KM45HM_np8x-"
   },
   "source": [
    "<h3>Featurizing data with count vectorizer(BoW)"
   ]
  },
  {
   "cell_type": "code",
   "execution_count": 18,
   "metadata": {
    "colab": {
     "base_uri": "https://localhost:8080/",
     "height": 35
    },
    "colab_type": "code",
    "id": "xnmQoQ-JpwLH",
    "outputId": "13277d8f-6ec6-4e70-daeb-9ea309420d6a"
   },
   "outputs": [
    {
     "name": "stdout",
     "output_type": "stream",
     "text": [
      "Time taken to run this cell : 0:01:23.851951\n"
     ]
    }
   ],
   "source": [
    "start = datetime.now()\n",
    "vectorizer = CountVectorizer(min_df=0.00009, max_features=200000, tokenizer=lambda x: x.split(), ngram_range=(1,4))\n",
    "x_train_multilabel = vectorizer.fit_transform(x_train['question'])\n",
    "x_test_multilabel = vectorizer.transform(x_test['question'])\n",
    "print(\"Time taken to run this cell :\", datetime.now() - start)"
   ]
  },
  {
   "cell_type": "code",
   "execution_count": 19,
   "metadata": {
    "colab": {
     "base_uri": "https://localhost:8080/",
     "height": 53
    },
    "colab_type": "code",
    "id": "k4S-GZB2p3XV",
    "outputId": "14f5e055-5a45-4ebc-8a72-b122ff6ef68a"
   },
   "outputs": [
    {
     "name": "stdout",
     "output_type": "stream",
     "text": [
      "Dimensions of train data X: (80000, 101734) Y : (80000, 500)\n",
      "Dimensions of test data X: (20000, 101734) Y: (20000, 500)\n"
     ]
    }
   ],
   "source": [
    "print(\"Dimensions of train data X:\",x_train_multilabel.shape, \"Y :\",y_train.shape)\n",
    "print(\"Dimensions of test data X:\",x_test_multilabel.shape,\"Y:\",y_test.shape)"
   ]
  },
  {
   "cell_type": "markdown",
   "metadata": {
    "colab_type": "text",
    "id": "I0t6HeovqViq"
   },
   "source": [
    "<h3>log regg one vs rest classifier and hyper param tunning"
   ]
  },
  {
   "cell_type": "code",
   "execution_count": 21,
   "metadata": {
    "colab": {
     "base_uri": "https://localhost:8080/",
     "height": 35
    },
    "colab_type": "code",
    "id": "anEKwdWEqUCu",
    "outputId": "17fa2e24-5249-48d2-a605-d3e931ea1b37"
   },
   "outputs": [
    {
     "name": "stdout",
     "output_type": "stream",
     "text": [
      "value of alpha after hyperparameter tuning :  0.001\n"
     ]
    }
   ],
   "source": [
    "from sklearn.model_selection import GridSearchCV\n",
    "param={'estimator__alpha': [10**-5, 10**-4, 10**-3, 10**-2, 10**-1, 10**0, 10**1]}\n",
    "classifier = OneVsRestClassifier(SGDClassifier(loss='log', penalty='l1'))\n",
    "gsv = GridSearchCV(estimator = classifier, param_grid=param, cv=3, verbose=0, scoring='f1_micro',n_jobs=15)\n",
    "gsv.fit(x_train_multilabel, y_train)\n",
    "\n",
    "best_alpha = gsv.best_estimator_.get_params()['estimator__alpha']\n",
    "print('value of alpha after hyperparameter tuning : ',best_alpha)"
   ]
  },
  {
   "cell_type": "markdown",
   "metadata": {
    "colab_type": "text",
    "id": "SN_z6VeDq0Hi"
   },
   "source": [
    "<h3>Training a classifier with the best value of the hyperparameter "
   ]
  },
  {
   "cell_type": "code",
   "execution_count": 22,
   "metadata": {
    "colab": {
     "base_uri": "https://localhost:8080/",
     "height": 142
    },
    "colab_type": "code",
    "id": "_Ml3sdxbqy0E",
    "outputId": "3cbb96ba-42e1-4dde-82ef-b829653dd2ff"
   },
   "outputs": [
    {
     "name": "stdout",
     "output_type": "stream",
     "text": [
      "Accuracy : 0.1197\n",
      "Hamming loss  0.0040428\n",
      "Micro-average quality numbers\n",
      "Precision: 0.4430, Recall: 0.3065, F1-measure: 0.3624\n",
      "Macro-average quality numbers\n",
      "Precision: 0.3185, Recall: 0.2214, F1-measure: 0.2374\n",
      "Time taken to run this cell : 0:03:44.962072\n"
     ]
    }
   ],
   "source": [
    "start = datetime.now()\n",
    "#best_alpha = gsv.best_estimator_.get_params()['estimator__alpha']\n",
    "classifier = OneVsRestClassifier(SGDClassifier(loss='log', alpha=best_alpha, penalty='l1'), n_jobs=-1)\n",
    "classifier.fit(x_train_multilabel, y_train)\n",
    "predictions = classifier.predict (x_test_multilabel)\n",
    "\n",
    "\n",
    "print(\"Accuracy :\",metrics.accuracy_score(y_test, predictions))\n",
    "print(\"Hamming loss \",metrics.hamming_loss(y_test,predictions))\n",
    "\n",
    "\n",
    "precision = precision_score(y_test, predictions, average='micro')\n",
    "recall = recall_score(y_test, predictions, average='micro')\n",
    "f1 = f1_score(y_test, predictions, average='micro')\n",
    " \n",
    "print(\"Micro-average quality numbers\")\n",
    "print(\"Precision: {:.4f}, Recall: {:.4f}, F1-measure: {:.4f}\".format(precision, recall, f1))\n",
    "\n",
    "precision = precision_score(y_test, predictions, average='macro')\n",
    "recall = recall_score(y_test, predictions, average='macro')\n",
    "f1 = f1_score(y_test, predictions, average='macro')\n",
    " \n",
    "print(\"Macro-average quality numbers\")\n",
    "print(\"Precision: {:.4f}, Recall: {:.4f}, F1-measure: {:.4f}\".format(precision, recall, f1))\n",
    "\n",
    "#print (metrics.classification_report(y_test, predictions))\n",
    "print(\"Time taken to run this cell :\", datetime.now() - start)"
   ]
  },
  {
   "cell_type": "markdown",
   "metadata": {
    "colab_type": "text",
    "id": "oLLkbPoIrQ5c"
   },
   "source": [
    "<h3>Support Vector Classification(SGD Classifier with hinge loss) "
   ]
  },
  {
   "cell_type": "markdown",
   "metadata": {
    "colab_type": "text",
    "id": "IcPQFGb4NX-X"
   },
   "source": [
    "<h3>hyper param"
   ]
  },
  {
   "cell_type": "code",
   "execution_count": 23,
   "metadata": {
    "colab": {
     "base_uri": "https://localhost:8080/",
     "height": 35
    },
    "colab_type": "code",
    "id": "LcugWwHPrJZ5",
    "outputId": "0b6bf6b5-86b0-4c56-b099-63c41e1d27e7"
   },
   "outputs": [
    {
     "name": "stdout",
     "output_type": "stream",
     "text": [
      "value of alpha after hyperparameter tuning :  0.001\n"
     ]
    }
   ],
   "source": [
    "param={'estimator__alpha': [10**-4, 10**-3, 10**-2, 10**-1, 10**0, 10**1]}\n",
    "classifier = OneVsRestClassifier(SGDClassifier(loss='hinge', penalty='l1'))\n",
    "gsv = GridSearchCV(estimator = classifier, param_grid=param, cv=3, verbose=0, scoring='f1_micro',n_jobs=15)\n",
    "gsv.fit(x_train_multilabel, y_train)\n",
    "\n",
    "best_alpha = gsv.best_estimator_.get_params()['estimator__alpha']\n",
    "print('value of alpha after hyperparameter tuning : ',best_alpha)"
   ]
  },
  {
   "cell_type": "markdown",
   "metadata": {
    "colab_type": "text",
    "id": "zdo2BsYJNdzY"
   },
   "source": [
    "<h3>model with best hyper param"
   ]
  },
  {
   "cell_type": "code",
   "execution_count": 24,
   "metadata": {
    "colab": {
     "base_uri": "https://localhost:8080/",
     "height": 142
    },
    "colab_type": "code",
    "id": "aUEuVZUxrexM",
    "outputId": "37d7c9c5-920d-4982-8a9b-ad3fd8ca2988"
   },
   "outputs": [
    {
     "name": "stdout",
     "output_type": "stream",
     "text": [
      "Accuracy : 0.1168\n",
      "Hamming loss  0.004063\n",
      "Micro-average quality numbers\n",
      "Precision: 0.4389, Recall: 0.3027, F1-measure: 0.3583\n",
      "Macro-average quality numbers\n",
      "Precision: 0.2867, Recall: 0.2268, F1-measure: 0.2271\n",
      "Time taken to run this cell : 0:02:44.301788\n"
     ]
    }
   ],
   "source": [
    "start = datetime.now()\n",
    "#best_alpha = gsv.best_estimator_.get_params()['estimator__alpha']\n",
    "classifier = OneVsRestClassifier(SGDClassifier(loss='hinge', alpha=best_alpha, penalty='l1'), n_jobs=-1)\n",
    "classifier.fit(x_train_multilabel, y_train)\n",
    "predictions = classifier.predict (x_test_multilabel)\n",
    "\n",
    "\n",
    "print(\"Accuracy :\",metrics.accuracy_score(y_test, predictions))\n",
    "print(\"Hamming loss \",metrics.hamming_loss(y_test,predictions))\n",
    "\n",
    "\n",
    "precision = precision_score(y_test, predictions, average='micro')\n",
    "recall = recall_score(y_test, predictions, average='micro')\n",
    "f1 = f1_score(y_test, predictions, average='micro')\n",
    " \n",
    "print(\"Micro-average quality numbers\")\n",
    "print(\"Precision: {:.4f}, Recall: {:.4f}, F1-measure: {:.4f}\".format(precision, recall, f1))\n",
    "\n",
    "precision = precision_score(y_test, predictions, average='macro')\n",
    "recall = recall_score(y_test, predictions, average='macro')\n",
    "f1 = f1_score(y_test, predictions, average='macro')\n",
    " \n",
    "print(\"Macro-average quality numbers\")\n",
    "print(\"Precision: {:.4f}, Recall: {:.4f}, F1-measure: {:.4f}\".format(precision, recall, f1))\n",
    "\n",
    "#print (metrics.classification_report(y_test, predictions))\n",
    "print(\"Time taken to run this cell :\", datetime.now() - start)"
   ]
  },
  {
   "cell_type": "markdown",
   "metadata": {
    "colab_type": "text",
    "id": "wD8MhiNCpq8d"
   },
   "source": [
    "\n",
    "<h1>Conclusion</h1>\n",
    "\n",
    "    We have choosen 'f1_micro' scoring metric because of the stated business statement.\n",
    "\n",
    "    Used bag of words upto 4 grams \n",
    "\n",
    "    For logistic regression , I have used 'SGDClassifier' instead of 'LogisticRegression'. The reason is 'LogisticRegression' takes lots of time for hyperparameter tuning.\n",
    "\n"
   ]
  },
  {
   "cell_type": "code",
   "execution_count": 26,
   "metadata": {
    "colab": {
     "base_uri": "https://localhost:8080/",
     "height": 124
    },
    "colab_type": "code",
    "id": "vuOx5BhGpl9Q",
    "outputId": "cba35268-d7e7-4490-a028-e399b717b3de"
   },
   "outputs": [
    {
     "name": "stdout",
     "output_type": "stream",
     "text": [
      "+-------------------------+---------------+----------+----------+---------------+----------+\n",
      "|   Classification model  | featurization | micro-f1 | macro-f1 | hamming loss  | accuracy |\n",
      "+-------------------------+---------------+----------+----------+---------------+----------+\n",
      "| log reg(sgd classifier) |   count vec   |   0.36   |   0.23   |     0.004     |  0.119   |\n",
      "|        linear svm       |   count vec   |   0.35   |   0.22   |     0.004     |  0.116   |\n",
      "+-------------------------+---------------+----------+----------+---------------+----------+\n"
     ]
    }
   ],
   "source": [
    "from prettytable import PrettyTable\n",
    "\n",
    "x = PrettyTable()\n",
    "\n",
    "x.field_names = [\"Classification model\", \"featurization\",\"micro-f1\",\"macro-f1\",\"hamming loss \",\"accuracy\"]\n",
    "\n",
    "x.add_row([\"log reg(sgd classifier)\", 'count vec', 0.36, 0.23, 0.004,0.119])\n",
    "x.add_row([\"linear svm\", 'count vec', 0.35, 0.22, 0.004,0.116])\n",
    "\n",
    "print(x)"
   ]
  }
 ],
 "metadata": {
  "accelerator": "GPU",
  "colab": {
   "collapsed_sections": [],
   "name": "SO_Tag_Predictor.ipynb",
   "provenance": [],
   "version": "0.3.2"
  },
  "kernelspec": {
   "display_name": "Python 3",
   "language": "python",
   "name": "python3"
  },
  "language_info": {
   "codemirror_mode": {
    "name": "ipython",
    "version": 3
   },
   "file_extension": ".py",
   "mimetype": "text/x-python",
   "name": "python",
   "nbconvert_exporter": "python",
   "pygments_lexer": "ipython3",
   "version": "3.7.3"
  }
 },
 "nbformat": 4,
 "nbformat_minor": 1
}
